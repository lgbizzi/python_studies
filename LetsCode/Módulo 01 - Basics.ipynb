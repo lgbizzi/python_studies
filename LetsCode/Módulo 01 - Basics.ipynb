{
 "cells": [
  {
   "cell_type": "code",
   "execution_count": 1,
   "id": "e21abb60",
   "metadata": {},
   "outputs": [
    {
     "name": "stdout",
     "output_type": "stream",
     "text": [
      "Hello, World\n"
     ]
    }
   ],
   "source": [
    "print(\"Hello, World\")"
   ]
  },
  {
   "cell_type": "code",
   "execution_count": 2,
   "id": "d52ba3a9",
   "metadata": {},
   "outputs": [
    {
     "name": "stdout",
     "output_type": "stream",
     "text": [
      "5\n"
     ]
    }
   ],
   "source": [
    "x = 5\n",
    "print(x)"
   ]
  },
  {
   "cell_type": "code",
   "execution_count": 3,
   "id": "9f281573",
   "metadata": {},
   "outputs": [
    {
     "name": "stdout",
     "output_type": "stream",
     "text": [
      "<class 'int'>\n"
     ]
    }
   ],
   "source": [
    "print(type(x))"
   ]
  },
  {
   "cell_type": "code",
   "execution_count": 4,
   "id": "41da22cf",
   "metadata": {},
   "outputs": [
    {
     "name": "stdout",
     "output_type": "stream",
     "text": [
      "19.99 <class 'float'>\n"
     ]
    }
   ],
   "source": [
    "preco = 19.99\n",
    "print(preco, type(preco))"
   ]
  },
  {
   "cell_type": "code",
   "execution_count": 6,
   "id": "b70044ad",
   "metadata": {},
   "outputs": [
    {
     "name": "stdout",
     "output_type": "stream",
     "text": [
      "Ribeirão Preto <class 'str'>\n"
     ]
    }
   ],
   "source": [
    "cidade = \"Ribeirão Preto\"\n",
    "print(cidade, type(cidade))"
   ]
  },
  {
   "cell_type": "code",
   "execution_count": 8,
   "id": "e20424ba",
   "metadata": {},
   "outputs": [
    {
     "name": "stdout",
     "output_type": "stream",
     "text": [
      "Ribeirão Preto <class 'str'>\n"
     ]
    }
   ],
   "source": [
    "cidade = 'Ribeirão Preto'\n",
    "print(cidade, type(cidade))"
   ]
  },
  {
   "cell_type": "code",
   "execution_count": 9,
   "id": "9d37d7a8",
   "metadata": {},
   "outputs": [
    {
     "name": "stdout",
     "output_type": "stream",
     "text": [
      "True <class 'bool'>\n"
     ]
    }
   ],
   "source": [
    "disponivel = True\n",
    "print(disponivel, type(disponivel))"
   ]
  },
  {
   "cell_type": "code",
   "execution_count": 10,
   "id": "76698095",
   "metadata": {},
   "outputs": [
    {
     "name": "stdout",
     "output_type": "stream",
     "text": [
      "False <class 'bool'>\n"
     ]
    }
   ],
   "source": [
    "disponivel = False\n",
    "print(disponivel, type(disponivel))"
   ]
  },
  {
   "cell_type": "code",
   "execution_count": 12,
   "id": "6d83b59c",
   "metadata": {},
   "outputs": [],
   "source": [
    "x = 50\n",
    "y = 2"
   ]
  },
  {
   "cell_type": "code",
   "execution_count": 13,
   "id": "ee32e5e1",
   "metadata": {},
   "outputs": [
    {
     "name": "stdout",
     "output_type": "stream",
     "text": [
      "52\n",
      "48\n",
      "100\n",
      "25.0\n"
     ]
    }
   ],
   "source": [
    "print (x + y)\n",
    "print (x - y)\n",
    "print (x * y)\n",
    "print (x / y)"
   ]
  },
  {
   "cell_type": "code",
   "execution_count": 14,
   "id": "ea7208df",
   "metadata": {},
   "outputs": [
    {
     "name": "stdout",
     "output_type": "stream",
     "text": [
      "2500\n",
      "25\n",
      "0\n"
     ]
    }
   ],
   "source": [
    "#Potenciação\n",
    "print(x ** y)\n",
    "\n",
    "#Divisão Inteira, ignorando o decimal, sem arredondar\n",
    "print(x // y)\n",
    "\n",
    "#Resto da divisão\n",
    "print(x % y)"
   ]
  },
  {
   "cell_type": "code",
   "execution_count": 19,
   "id": "05ad5d2f",
   "metadata": {},
   "outputs": [],
   "source": [
    "tem_cafe = True\n",
    "tem_pao = False"
   ]
  },
  {
   "cell_type": "code",
   "execution_count": 22,
   "id": "a7046eb8",
   "metadata": {},
   "outputs": [
    {
     "name": "stdout",
     "output_type": "stream",
     "text": [
      "False\n",
      "True\n",
      "False\n"
     ]
    }
   ],
   "source": [
    "print(not tem_cafe)\n",
    "print(tem_cafe or tem_pao)\n",
    "print(tem_cafe and tem_pao)"
   ]
  },
  {
   "cell_type": "code",
   "execution_count": 23,
   "id": "9cf165ac",
   "metadata": {},
   "outputs": [],
   "source": [
    "dolar = 5.3\n",
    "real = 1"
   ]
  },
  {
   "cell_type": "code",
   "execution_count": 24,
   "id": "189ccd99",
   "metadata": {},
   "outputs": [
    {
     "name": "stdout",
     "output_type": "stream",
     "text": [
      "True\n",
      "False\n",
      "False\n",
      "True\n",
      "False\n",
      "True\n"
     ]
    }
   ],
   "source": [
    "print (dolar > real)\n",
    "print (dolar < real)\n",
    "print (dolar == real)\n",
    "print (dolar >= real)\n",
    "print (dolar <= real)\n",
    "print (dolar != real)"
   ]
  },
  {
   "cell_type": "code",
   "execution_count": 25,
   "id": "962aa3d2",
   "metadata": {},
   "outputs": [
    {
     "name": "stdout",
     "output_type": "stream",
     "text": [
      "Por gentileza, informe a sua idade: 26\n",
      "26 <class 'str'>\n"
     ]
    }
   ],
   "source": [
    "idade = input(\"Por gentileza, informe a sua idade: \")\n",
    "print(idade, type(idade))"
   ]
  },
  {
   "cell_type": "code",
   "execution_count": 26,
   "id": "2d902231",
   "metadata": {},
   "outputs": [
    {
     "name": "stdout",
     "output_type": "stream",
     "text": [
      "26 <class 'int'>\n"
     ]
    }
   ],
   "source": [
    "idade = int(idade)\n",
    "print(idade, type(idade))"
   ]
  },
  {
   "cell_type": "code",
   "execution_count": 27,
   "id": "f1d2d2f4",
   "metadata": {},
   "outputs": [
    {
     "ename": "ValueError",
     "evalue": "invalid literal for int() with base 10: '123abc'",
     "output_type": "error",
     "traceback": [
      "\u001b[1;31m---------------------------------------------------------------------------\u001b[0m",
      "\u001b[1;31mValueError\u001b[0m                                Traceback (most recent call last)",
      "\u001b[1;32m~\\AppData\\Local\\Temp/ipykernel_12596/2154220962.py\u001b[0m in \u001b[0;36m<module>\u001b[1;34m\u001b[0m\n\u001b[1;32m----> 1\u001b[1;33m \u001b[0mint\u001b[0m\u001b[1;33m(\u001b[0m\u001b[1;34m'123abc'\u001b[0m\u001b[1;33m)\u001b[0m\u001b[1;33m\u001b[0m\u001b[1;33m\u001b[0m\u001b[0m\n\u001b[0m",
      "\u001b[1;31mValueError\u001b[0m: invalid literal for int() with base 10: '123abc'"
     ]
    }
   ],
   "source": [
    "int('123abc')"
   ]
  },
  {
   "cell_type": "code",
   "execution_count": 29,
   "id": "f366383a",
   "metadata": {},
   "outputs": [
    {
     "name": "stdout",
     "output_type": "stream",
     "text": [
      "123.25\n",
      "123.25\n",
      "False\n",
      "True\n",
      "False\n",
      "True\n"
     ]
    }
   ],
   "source": [
    "print(float('123.25'))\n",
    "print(str(123.25))\n",
    "print(bool(''))\n",
    "print(bool('abc'))\n",
    "print(bool(0))\n",
    "print(bool(-2))"
   ]
  },
  {
   "cell_type": "code",
   "execution_count": 33,
   "id": "21866f3f",
   "metadata": {},
   "outputs": [
    {
     "name": "stdout",
     "output_type": "stream",
     "text": [
      "Por gentileza, digite o valor de seu salario mensal: 5000\n",
      "Por gentileza, digite o valor de seu gasto mensal, em média: 2000\n",
      "O montante economizado será de R$ 36000.0\n"
     ]
    }
   ],
   "source": [
    "salario_mensal = input(\"Por gentileza, digite o valor de seu salario mensal: \")\n",
    "salario_mensal = float(salario_mensal)\n",
    "\n",
    "gasto_mensal = input(\"Por gentileza, digite o valor de seu gasto mensal, em média: \")\n",
    "gasto_mensal = float(gasto_mensal)\n",
    "\n",
    "salario_total = salario_mensal * 12\n",
    "gasto_total = gasto_mensal * 12\n",
    "\n",
    "montante_economizado = salario_total - gasto_total\n",
    "print(\"O montante economizado será de R$\", montante_economizado)"
   ]
  },
  {
   "cell_type": "code",
   "execution_count": 38,
   "id": "e7883fe0",
   "metadata": {},
   "outputs": [],
   "source": [
    "###Aula 06 - Estruturas Condicionais"
   ]
  },
  {
   "cell_type": "code",
   "execution_count": 40,
   "id": "7a36d840",
   "metadata": {},
   "outputs": [
    {
     "name": "stdout",
     "output_type": "stream",
     "text": [
      "Qual é o valor da corrida? 20\n",
      "Pague a corrida\n"
     ]
    }
   ],
   "source": [
    "valor_passagem = 4.30\n",
    "valor_corrida = input('Qual é o valor da corrida? ')\n",
    "\n",
    "if float(valor_corrida) <= valor_passagem * 5:\n",
    "    print('Pague a corrida')\n",
    "if float(valor_corrida) >= valor_passagem * 5:\n",
    "    print('Pegue o ônibus')"
   ]
  },
  {
   "cell_type": "code",
   "execution_count": 42,
   "id": "9a7c7883",
   "metadata": {},
   "outputs": [
    {
     "name": "stdout",
     "output_type": "stream",
     "text": [
      "Qual é o valor da corrida? 25\n",
      "Pegue o ônibus\n"
     ]
    }
   ],
   "source": [
    "valor_passagem = 4.30\n",
    "valor_corrida = input('Qual é o valor da corrida? ')\n",
    "\n",
    "if float(valor_corrida) <= valor_passagem * 5:\n",
    "    print('Pague a corrida')\n",
    "else:\n",
    "    print('Pegue o ônibus')"
   ]
  },
  {
   "cell_type": "code",
   "execution_count": 46,
   "id": "c8e401bd",
   "metadata": {},
   "outputs": [
    {
     "name": "stdout",
     "output_type": "stream",
     "text": [
      "Qual é o valor da corrida? 26\n",
      "Pegue o ônibus\n"
     ]
    }
   ],
   "source": [
    "valor_passagem = 4.30\n",
    "valor_corrida = input('Qual é o valor da corrida? ')\n",
    "\n",
    "if float(valor_corrida) <= valor_passagem * 5:\n",
    "    print('Pague a corrida')\n",
    "else:\n",
    "    if float(valor_corrida) <= valor_passagem * 6:\n",
    "        print('Aguarde um momento, o valor pode abaixar')\n",
    "    else:\n",
    "        print('Pegue o ônibus')"
   ]
  },
  {
   "cell_type": "code",
   "execution_count": 48,
   "id": "bcc764ea",
   "metadata": {},
   "outputs": [
    {
     "name": "stdout",
     "output_type": "stream",
     "text": [
      "Qual é o valor da corrida? 26\n",
      "Pegue o ônibus\n"
     ]
    }
   ],
   "source": [
    "valor_passagem = 4.30\n",
    "valor_corrida = input('Qual é o valor da corrida? ')\n",
    "\n",
    "if float(valor_corrida) <= valor_passagem * 5:\n",
    "    print('Pague a corrida')\n",
    "elif float(valor_corrida) <= valor_passagem * 6:\n",
    "    print('Aguarde um momento, o valor pode abaixar')\n",
    "else:\n",
    "    print('Pegue o ônibus')"
   ]
  },
  {
   "cell_type": "code",
   "execution_count": 49,
   "id": "5ca5a51a",
   "metadata": {},
   "outputs": [],
   "source": [
    "###Aula 07 - Estruturas de Repetição - While"
   ]
  },
  {
   "cell_type": "code",
   "execution_count": 50,
   "id": "781bdad1",
   "metadata": {},
   "outputs": [
    {
     "name": "stdout",
     "output_type": "stream",
     "text": [
      "1  Item limpo\n",
      "2  Itens limpos\n",
      "3  Itens limpos\n",
      "4  Itens limpos\n",
      "5  Itens limpos\n",
      "6  Itens limpos\n",
      "7  Itens limpos\n",
      "8  Itens limpos\n",
      "9  Itens limpos\n",
      "10  Itens limpos\n",
      "Fim da repetição do bloco while\n"
     ]
    }
   ],
   "source": [
    "contador = 0\n",
    "\n",
    "while contador < 10:\n",
    "    contador = contador + 1\n",
    "    if contador == 1:\n",
    "        print(contador , \" Item limpo\")\n",
    "    else:\n",
    "        print(contador, \" Itens limpos\")\n",
    "\n",
    "print('Fim da repetição do bloco while')"
   ]
  },
  {
   "cell_type": "code",
   "execution_count": 52,
   "id": "bc33f1f5",
   "metadata": {},
   "outputs": [
    {
     "name": "stdout",
     "output_type": "stream",
     "text": [
      "1  Item limpo\n",
      "2  Itens limpos\n",
      "3  Itens limpos\n",
      "4  Itens limpos\n",
      "5  Itens limpos\n",
      "6  Itens limpos\n",
      "7  Itens limpos\n",
      "8  Itens limpos\n",
      "9  Itens limpos\n",
      "10  Itens limpos\n",
      "Fim da repetição do bloco while\n"
     ]
    }
   ],
   "source": [
    "contador = 0\n",
    "\n",
    "while True:\n",
    "    if contador <10:\n",
    "        contador = contador + 1\n",
    "        if contador == 1:\n",
    "            print(contador , \" Item limpo\")\n",
    "        else:\n",
    "            print(contador, \" Itens limpos\")\n",
    "    else:\n",
    "        break\n",
    "print('Fim da repetição do bloco while')"
   ]
  },
  {
   "cell_type": "code",
   "execution_count": 54,
   "id": "b89f2bb4",
   "metadata": {},
   "outputs": [
    {
     "name": "stdout",
     "output_type": "stream",
     "text": [
      "Digite a sua senha: 1234\n",
      "Senha inválida! Tente novamente: LetsCode]\n",
      "Senha inválida! Tente novamente: LetsCode\n",
      "Acesso permitido!\n"
     ]
    }
   ],
   "source": [
    "texto = input('Digite a sua senha: ')\n",
    "\n",
    "while texto != 'LetsCode':\n",
    "    texto = input('Senha inválida! Tente novamente: ')\n",
    "    \n",
    "print('Acesso permitido!')"
   ]
  },
  {
   "cell_type": "code",
   "execution_count": 56,
   "id": "7e18554c",
   "metadata": {},
   "outputs": [
    {
     "name": "stdout",
     "output_type": "stream",
     "text": [
      "2  Itens limpos\n",
      "3  Itens limpos\n",
      "4  Itens limpos\n",
      "5  Itens limpos\n",
      "6  Itens limpos\n",
      "7  Itens limpos\n",
      "8  Itens limpos\n",
      "9  Itens limpos\n",
      "10  Itens limpos\n",
      "Fim da repetição do bloco while\n"
     ]
    }
   ],
   "source": [
    "contador = 0\n",
    "\n",
    "while contador < 10:\n",
    "    contador = contador + 1\n",
    "    if contador == 1:\n",
    "        continue\n",
    "    print(contador, \" Itens limpos\")\n",
    "\n",
    "print('Fim da repetição do bloco while')"
   ]
  },
  {
   "cell_type": "code",
   "execution_count": null,
   "id": "66aa3272",
   "metadata": {},
   "outputs": [],
   "source": []
  }
 ],
 "metadata": {
  "kernelspec": {
   "display_name": "Python 3 (ipykernel)",
   "language": "python",
   "name": "python3"
  },
  "language_info": {
   "codemirror_mode": {
    "name": "ipython",
    "version": 3
   },
   "file_extension": ".py",
   "mimetype": "text/x-python",
   "name": "python",
   "nbconvert_exporter": "python",
   "pygments_lexer": "ipython3",
   "version": "3.9.6"
  }
 },
 "nbformat": 4,
 "nbformat_minor": 5
}
